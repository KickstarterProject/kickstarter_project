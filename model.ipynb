{
  "nbformat": 4,
  "nbformat_minor": 0,
  "metadata": {
    "colab": {
      "name": "model.ipynb",
      "provenance": [],
      "machine_shape": "hm",
      "collapsed_sections": []
    },
    "kernelspec": {
      "name": "python3",
      "display_name": "Python 3"
    },
    "language_info": {
      "name": "python"
    },
    "accelerator": "GPU"
  },
  "cells": [
    {
      "cell_type": "code",
      "execution_count": 183,
      "metadata": {
        "id": "31ajkNz1ddau",
        "colab": {
          "base_uri": "https://localhost:8080/"
        },
        "outputId": "527a779f-83ed-42ae-e5ce-0e84ed103f63"
      },
      "outputs": [
        {
          "output_type": "stream",
          "name": "stdout",
          "text": [
            "CPU times: user 66 µs, sys: 1 µs, total: 67 µs\n",
            "Wall time: 70.3 µs\n"
          ]
        }
      ],
      "source": [
        "%%time\n",
        "import pandas as pd\n",
        "import numpy as np\n",
        "import datetime\n",
        "import matplotlib.pyplot as plt\n",
        "import matplotlib\n",
        "import seaborn as sns\n",
        "import math\n",
        "import xgboost as xgb\n",
        "from scipy.stats import skew\n",
        "from scipy import stats\n",
        "from sklearn.preprocessing import OneHotEncoder, LabelEncoder, StandardScaler\n",
        "from sklearn.model_selection import train_test_split, GridSearchCV\n",
        "from sklearn.compose import ColumnTransformer\n",
        "from sklearn.pipeline import Pipeline\n",
        "from sklearn.impute import SimpleImputer\n",
        "from sklearn.ensemble import RandomForestClassifier\n",
        "from sklearn.metrics import accuracy_score, auc, classification_report, roc_curve, roc_auc_score, confusion_matrix\n",
        "from sklearn.linear_model import LogisticRegression\n",
        "from sklearn.tree import DecisionTreeClassifier\n",
        "from sklearn.svm import SVC\n",
        "from sklearn.neighbors import KNeighborsClassifier\n",
        "from datetime import datetime\n",
        "from sklearn.neighbors import NearestNeighbors"
      ]
    },
    {
      "cell_type": "code",
      "source": [
        "import re\n",
        "import string\n",
        "\n",
        "from sklearn.feature_extraction.text import CountVectorizer, TfidfVectorizer\n",
        "import matplotlib.pyplot as plt\n",
        "import pandas as pd\n",
        "import numpy as np\n",
        "\n",
        "# from bs4 import BeautifulSoup\n",
        "%matplotlib inline\n",
        "\n",
        "import pickle as pkl"
      ],
      "metadata": {
        "id": "y-KbOKtB0KLn"
      },
      "execution_count": 184,
      "outputs": []
    },
    {
      "cell_type": "code",
      "source": [
        "print(\"XGBoost\", xgb.__version__)"
      ],
      "metadata": {
        "id": "cCMG0Rcq0XiT",
        "colab": {
          "base_uri": "https://localhost:8080/"
        },
        "outputId": "43607de8-4f6f-4faa-e5aa-7d945b56e14d"
      },
      "execution_count": 185,
      "outputs": [
        {
          "output_type": "stream",
          "name": "stdout",
          "text": [
            "XGBoost 0.90\n"
          ]
        }
      ]
    },
    {
      "cell_type": "code",
      "source": [
        "df = pd.read_csv('/content/ks-projects-201801.csv')"
      ],
      "metadata": {
        "id": "CTirp4nH0d8B"
      },
      "execution_count": 186,
      "outputs": []
    },
    {
      "cell_type": "code",
      "source": [
        "df.head()\n",
        "print(df.shape)"
      ],
      "metadata": {
        "id": "tgU_o6US1T5B",
        "colab": {
          "base_uri": "https://localhost:8080/"
        },
        "outputId": "ed1a2d3f-86d7-493b-a947-0de27b30d55b"
      },
      "execution_count": 187,
      "outputs": [
        {
          "output_type": "stream",
          "name": "stdout",
          "text": [
            "(378661, 15)\n"
          ]
        }
      ]
    },
    {
      "cell_type": "code",
      "source": [
        "df.isnull().sum()"
      ],
      "metadata": {
        "id": "mnmqfaP-7zO0",
        "colab": {
          "base_uri": "https://localhost:8080/"
        },
        "outputId": "46a6c0ba-3a5f-4a55-f973-0f6582b626f7"
      },
      "execution_count": 188,
      "outputs": [
        {
          "output_type": "execute_result",
          "data": {
            "text/plain": [
              "ID                     0\n",
              "name                   4\n",
              "category               0\n",
              "main_category          0\n",
              "currency               0\n",
              "deadline               0\n",
              "goal                   0\n",
              "launched               0\n",
              "pledged                0\n",
              "state                  0\n",
              "backers                0\n",
              "country                0\n",
              "usd pledged         3797\n",
              "usd_pledged_real       0\n",
              "usd_goal_real          0\n",
              "dtype: int64"
            ]
          },
          "metadata": {},
          "execution_count": 188
        }
      ]
    },
    {
      "cell_type": "code",
      "source": [
        "df[\"state\"].unique()"
      ],
      "metadata": {
        "id": "oREJQ3FqB8QW",
        "colab": {
          "base_uri": "https://localhost:8080/"
        },
        "outputId": "513f48e7-fd3a-46ec-e46d-db9b4ae2d920"
      },
      "execution_count": 189,
      "outputs": [
        {
          "output_type": "execute_result",
          "data": {
            "text/plain": [
              "array(['failed', 'canceled', 'successful', 'live', 'undefined',\n",
              "       'suspended'], dtype=object)"
            ]
          },
          "metadata": {},
          "execution_count": 189
        }
      ]
    },
    {
      "cell_type": "code",
      "source": [
        "df['launched'] = pd.to_datetime(df['launched'])\n",
        "df['deadline'] = pd.to_datetime(df['deadline'])"
      ],
      "metadata": {
        "id": "1TfIrqTQIOpW"
      },
      "execution_count": 190,
      "outputs": []
    },
    {
      "cell_type": "code",
      "source": [
        "df['duration'] = df['deadline'] - df['launched']"
      ],
      "metadata": {
        "id": "RSEiNO4LJFmJ"
      },
      "execution_count": 191,
      "outputs": []
    },
    {
      "cell_type": "code",
      "source": [
        "df.duration"
      ],
      "metadata": {
        "id": "mfolaWD1JfDQ",
        "colab": {
          "base_uri": "https://localhost:8080/"
        },
        "outputId": "ac5989b4-2588-41b6-98c1-def1c3d0aede"
      },
      "execution_count": 192,
      "outputs": [
        {
          "output_type": "execute_result",
          "data": {
            "text/plain": [
              "0        58 days 11:47:32\n",
              "1        59 days 19:16:03\n",
              "2        44 days 23:39:10\n",
              "3        29 days 20:35:49\n",
              "4        55 days 15:24:57\n",
              "               ...       \n",
              "378656   29 days 21:24:30\n",
              "378657   26 days 20:24:46\n",
              "378658   45 days 04:19:30\n",
              "378659   30 days 05:46:07\n",
              "378660   27 days 14:52:13\n",
              "Name: duration, Length: 378661, dtype: timedelta64[ns]"
            ]
          },
          "metadata": {},
          "execution_count": 192
        }
      ]
    },
    {
      "cell_type": "code",
      "source": [
        "df.state.value_counts()"
      ],
      "metadata": {
        "id": "MQactbNsJk7v",
        "colab": {
          "base_uri": "https://localhost:8080/"
        },
        "outputId": "dbcd24c1-6389-4dcd-d7c7-427fea566359"
      },
      "execution_count": 193,
      "outputs": [
        {
          "output_type": "execute_result",
          "data": {
            "text/plain": [
              "failed        197719\n",
              "successful    133956\n",
              "canceled       38779\n",
              "undefined       3562\n",
              "live            2799\n",
              "suspended       1846\n",
              "Name: state, dtype: int64"
            ]
          },
          "metadata": {},
          "execution_count": 193
        }
      ]
    },
    {
      "cell_type": "code",
      "source": [
        "df.drop(df[(df['state'] == 'undefined')].index,inplace = True)\n"
      ],
      "metadata": {
        "id": "ey7ey2HwL314"
      },
      "execution_count": 194,
      "outputs": []
    },
    {
      "cell_type": "code",
      "source": [
        "df['state'].value_counts()"
      ],
      "metadata": {
        "id": "fpuINoqmNQG5",
        "colab": {
          "base_uri": "https://localhost:8080/"
        },
        "outputId": "b5ad12e1-e21c-4aff-db36-04e5f828743a"
      },
      "execution_count": 195,
      "outputs": [
        {
          "output_type": "execute_result",
          "data": {
            "text/plain": [
              "failed        197719\n",
              "successful    133956\n",
              "canceled       38779\n",
              "live            2799\n",
              "suspended       1846\n",
              "Name: state, dtype: int64"
            ]
          },
          "metadata": {},
          "execution_count": 195
        }
      ]
    },
    {
      "cell_type": "code",
      "source": [
        "df[\"state\"].replace({\"failed\": \"Failed\", \"successful\": \"Success\",\"canceled\": \"Failed\",\"live\": \"Success\",\"suspended\": \"Failed\"}, inplace=True)"
      ],
      "metadata": {
        "id": "JrlwzE1-NrYW"
      },
      "execution_count": 196,
      "outputs": []
    },
    {
      "cell_type": "code",
      "source": [
        "df.state.value_counts(normalize = True)*100"
      ],
      "metadata": {
        "id": "c4Jk-NMfN4tX",
        "colab": {
          "base_uri": "https://localhost:8080/"
        },
        "outputId": "0c3421bb-0288-4901-d30d-1df2bc92c5a8"
      },
      "execution_count": 197,
      "outputs": [
        {
          "output_type": "execute_result",
          "data": {
            "text/plain": [
              "Failed     63.541625\n",
              "Success    36.458375\n",
              "Name: state, dtype: float64"
            ]
          },
          "metadata": {},
          "execution_count": 197
        }
      ]
    },
    {
      "cell_type": "code",
      "source": [
        "my_features = ['country', 'currency', 'duration', 'goal']"
      ],
      "metadata": {
        "id": "T8eNuJhLQQei"
      },
      "execution_count": 198,
      "outputs": []
    },
    {
      "cell_type": "code",
      "source": [
        "cols_to_drop = [\n",
        "        \"ID\",\n",
        "        \"name\",\n",
        "        \"category\",\n",
        "        \"main_category\",\n",
        "        \"deadline\",\n",
        "        \"launched\",\n",
        "        \"pledged\",\n",
        "        \"backers\",\n",
        "        \"usd pledged\",\n",
        "        \"usd_pledged_real\",\n",
        "        \"usd_goal_real\",\n",
        "    ]\n",
        "df = df.drop(cols_to_drop, axis=1)"
      ],
      "metadata": {
        "id": "YD3RRpuLyxW_"
      },
      "execution_count": 199,
      "outputs": []
    },
    {
      "cell_type": "code",
      "source": [
        "# df.shape"
      ],
      "metadata": {
        "id": "qqPt2VVu0I6Y"
      },
      "execution_count": 200,
      "outputs": []
    },
    {
      "cell_type": "code",
      "source": [
        "dtrain = df[my_features]\n",
        "dtest = df[my_features]"
      ],
      "metadata": {
        "id": "qnfQRqNYSxi2"
      },
      "execution_count": 201,
      "outputs": []
    },
    {
      "cell_type": "code",
      "source": [
        "df['state'] = df['state'].replace({'failed':0, 'successful':1})"
      ],
      "metadata": {
        "id": "5Ro2e4pAkJSt"
      },
      "execution_count": 202,
      "outputs": []
    },
    {
      "cell_type": "code",
      "source": [
        "y = df.state\n",
        "\n",
        "X_train, X_val, y_train, y_val = train_test_split(df, y, test_size=0.1, random_state=0)\n",
        "categorical_cols = [cname for cname in dtrain.columns if\n",
        "                    dtrain[cname].nunique() < 10 and \n",
        "                    dtrain[cname].dtype == \"object\"]\n",
        "\n",
        "numerical_cols = [cname for cname in dtrain.columns if \n",
        "                dtrain[cname].dtype in ['int64', 'float64']]"
      ],
      "metadata": {
        "id": "aR7uxt_mkbTy"
      },
      "execution_count": 203,
      "outputs": []
    },
    {
      "cell_type": "code",
      "source": [
        "print(X_train.shape)\n",
        "print(X_val.shape)\n",
        "print(y_train.shape)\n",
        "print(y_val.shape)"
      ],
      "metadata": {
        "id": "RU9OLjJTTiwS",
        "colab": {
          "base_uri": "https://localhost:8080/"
        },
        "outputId": "5c230ce7-1cf3-47ac-e0ec-026101b0628a"
      },
      "execution_count": 204,
      "outputs": [
        {
          "output_type": "stream",
          "name": "stdout",
          "text": [
            "(337589, 5)\n",
            "(37510, 5)\n",
            "(337589,)\n",
            "(37510,)\n"
          ]
        }
      ]
    },
    {
      "cell_type": "code",
      "source": [
        "numerical_transformer = SimpleImputer(strategy='mean')\n",
        "\n",
        "categorical_transformer = Pipeline(steps=[\n",
        "    ('imputer', SimpleImputer(strategy='most_frequent')),\n",
        "    ('onehot', OneHotEncoder(handle_unknown='ignore', sparse=False))\n",
        "])\n",
        "\n",
        "sc = StandardScaler()\n",
        "\n",
        "preprocessor = ColumnTransformer(\n",
        "    transformers=[\n",
        "        ('num', numerical_transformer, numerical_cols),\n",
        "        ('cat', categorical_transformer, categorical_cols)\n",
        "    ])"
      ],
      "metadata": {
        "id": "On0MgVHnXECn"
      },
      "execution_count": 205,
      "outputs": []
    },
    {
      "cell_type": "code",
      "source": [
        "Results = pd.DataFrame({'Model': [], 'Accuracy Score': []})"
      ],
      "metadata": {
        "id": "I0mzQqgANfOM"
      },
      "execution_count": 206,
      "outputs": []
    },
    {
      "cell_type": "code",
      "source": [
        "knnc = KNeighborsClassifier()\n",
        "\n",
        "knn = Pipeline(steps=[('preprocessor',preprocessor),\n",
        "                      ('sc',StandardScaler()),\n",
        "                      ('model', knnc)\n",
        "])\n",
        "\n",
        "knn.fit(X_train, y_train)\n",
        "\n",
        "predsKNN = knn.predict(X_val)\n",
        "\n",
        "\n",
        "# print('Accuracy:', accuracy_score(y_val, predsKNN))\n",
        "# print('CR:', classification_report(y_val, predsKNN))\n",
        "# print('CM:',confusion_matrix(y_val, predsKNN))\n",
        "\n",
        "# res = pd.DataFrame({'Model': ['KNN'],\n",
        "#                     'Accuracy Score': [accuracy_score(y_val, predsKNN)]})\n",
        "# Results = Results.append(res)"
      ],
      "metadata": {
        "id": "0sV3Ld2zX-AC"
      },
      "execution_count": 207,
      "outputs": []
    },
    {
      "cell_type": "code",
      "source": [
        "print('Accuracy:', accuracy_score(y_val, predsKNN))\n",
        "print('CR:', classification_report(y_val, predsKNN))\n",
        "print('CM:',confusion_matrix(y_val, predsKNN))\n",
        "\n",
        "res = pd.DataFrame({'Model': ['KNN'],\n",
        "                    'Accuracy Score': [accuracy_score(y_val, predsKNN)]})\n",
        "Results = Results.append(res)"
      ],
      "metadata": {
        "colab": {
          "base_uri": "https://localhost:8080/"
        },
        "id": "GzicUjtuoFgr",
        "outputId": "cb60bf05-ce5b-406c-bd43-f4fc72fed3a2"
      },
      "execution_count": 208,
      "outputs": [
        {
          "output_type": "stream",
          "name": "stdout",
          "text": [
            "Accuracy: 0.6095707811250334\n",
            "CR:               precision    recall  f1-score   support\n",
            "\n",
            "      Failed       0.66      0.78      0.72     23805\n",
            "     Success       0.45      0.32      0.37     13705\n",
            "\n",
            "    accuracy                           0.61     37510\n",
            "   macro avg       0.56      0.55      0.54     37510\n",
            "weighted avg       0.59      0.61      0.59     37510\n",
            "\n",
            "CM: [[18527  5278]\n",
            " [ 9367  4338]]\n"
          ]
        }
      ]
    },
    {
      "cell_type": "code",
      "source": [
        "from xgboost import XGBClassifier\n",
        "model_xgb = XGBClassifier(n_estimators= 500, learning_rate = 0.1, max_depth=5, use_label_encoder=False)\n",
        "\n",
        "xgb = Pipeline(steps=[('preprocessor', preprocessor),\n",
        "                      ('model_xgb', model_xgb)\n",
        "])\n",
        "\n",
        "\n",
        "xgb.fit(X_train, y_train)"
      ],
      "metadata": {
        "colab": {
          "base_uri": "https://localhost:8080/"
        },
        "id": "p4xmCGjaoGOB",
        "outputId": "5260de05-e3f4-4813-c6b9-ea782cf3cbd1"
      },
      "execution_count": 209,
      "outputs": [
        {
          "output_type": "execute_result",
          "data": {
            "text/plain": [
              "Pipeline(steps=[('preprocessor',\n",
              "                 ColumnTransformer(transformers=[('num', SimpleImputer(),\n",
              "                                                  ['goal']),\n",
              "                                                 ('cat',\n",
              "                                                  Pipeline(steps=[('imputer',\n",
              "                                                                   SimpleImputer(strategy='most_frequent')),\n",
              "                                                                  ('onehot',\n",
              "                                                                   OneHotEncoder(handle_unknown='ignore',\n",
              "                                                                                 sparse=False))]),\n",
              "                                                  [])])),\n",
              "                ('model_xgb',\n",
              "                 XGBClassifier(max_depth=5, n_estimators=500,\n",
              "                               use_label_encoder=False))])"
            ]
          },
          "metadata": {},
          "execution_count": 209
        }
      ]
    },
    {
      "cell_type": "code",
      "source": [
        "predictions = xgb.predict(X_val)\n",
        "print('Accuracy:', accuracy_score(y_val, predictions))\n",
        "print('CR:', classification_report(y_val, predictions))\n",
        "print('CM:',confusion_matrix(y_val, predictions))\n",
        "\n",
        "res = pd.DataFrame({'Model': ['XGB'],\n",
        "                    'Accuracy Score': [accuracy_score(y_val, predictions)]})\n",
        "Results = Results.append(res)"
      ],
      "metadata": {
        "colab": {
          "base_uri": "https://localhost:8080/"
        },
        "id": "PKKqC3gYoKx9",
        "outputId": "cc1cf153-9d1b-4251-ef9a-a1a080b4f2a1"
      },
      "execution_count": 210,
      "outputs": [
        {
          "output_type": "stream",
          "name": "stdout",
          "text": [
            "Accuracy: 0.6366568914956011\n",
            "CR:               precision    recall  f1-score   support\n",
            "\n",
            "      Failed       0.65      0.92      0.76     23805\n",
            "     Success       0.51      0.14      0.22     13705\n",
            "\n",
            "    accuracy                           0.64     37510\n",
            "   macro avg       0.58      0.53      0.49     37510\n",
            "weighted avg       0.60      0.64      0.57     37510\n",
            "\n",
            "CM: [[21917  1888]\n",
            " [11741  1964]]\n"
          ]
        }
      ]
    },
    {
      "cell_type": "code",
      "source": [
        "# model = RandomForestClassifier(n_estimators=100, random_state=0,criterion='entropy')\n",
        "\n",
        "\n",
        "# clf = Pipeline(steps=[('preprocessor', preprocessor),\n",
        "#                       ('sc',StandardScaler()),\n",
        "#                       ('model', model)\n",
        "# ])\n",
        "\n",
        "\n",
        "# clf.fit(X_train, y_train)\n",
        "\n",
        "\n",
        "# preds = clf.predict(X_val)\n",
        "# print('Accuracy:', accuracy_score(y_val, preds))\n",
        "# print('CR:', classification_report(y_val, preds))\n",
        "# print('CM:',confusion_matrix(y_val, preds))\n",
        "\n",
        "# res = pd.DataFrame({'Model': ['RandomForest'],\n",
        "#                     'Accuracy Score': [accuracy_score(y_val, preds)]})\n",
        "# Results = Results.append(res)"
      ],
      "metadata": {
        "id": "4yvHFRb0oRZd"
      },
      "execution_count": 211,
      "outputs": []
    },
    {
      "cell_type": "code",
      "source": [
        "# with open(\"model_XGB_k\",\"wb\") as f:\n",
        "#     pkl.dump(model_xgb, f)\n",
        "# xgb.save_model('xgb.model.kick')"
      ],
      "metadata": {
        "id": "IxUt1GbYoaAa"
      },
      "execution_count": 212,
      "outputs": []
    },
    {
      "cell_type": "code",
      "source": [
        "pkl.dump(knn, open('model_XGB', 'wb'))"
      ],
      "metadata": {
        "id": "D3kvi-lMocqd"
      },
      "execution_count": 213,
      "outputs": []
    }
  ]
}