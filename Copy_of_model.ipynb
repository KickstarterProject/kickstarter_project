{
  "nbformat": 4,
  "nbformat_minor": 0,
  "metadata": {
    "colab": {
      "name": "Copy of model.ipynb",
      "provenance": [],
      "machine_shape": "hm",
      "collapsed_sections": []
    },
    "kernelspec": {
      "name": "python3",
      "display_name": "Python 3"
    },
    "language_info": {
      "name": "python"
    },
    "accelerator": "GPU"
  },
  "cells": [
    {
      "cell_type": "code",
      "execution_count": 149,
      "metadata": {
        "id": "31ajkNz1ddau",
        "colab": {
          "base_uri": "https://localhost:8080/"
        },
        "outputId": "1e1b8524-b772-4f52-d0e3-b0a25b4fbf91"
      },
      "outputs": [
        {
          "output_type": "stream",
          "name": "stdout",
          "text": [
            "CPU times: user 70 µs, sys: 0 ns, total: 70 µs\n",
            "Wall time: 73 µs\n"
          ]
        }
      ],
      "source": [
        "%%time\n",
        "import pandas as pd\n",
        "import numpy as np\n",
        "import datetime\n",
        "import matplotlib.pyplot as plt\n",
        "import matplotlib\n",
        "import seaborn as sns\n",
        "import math\n",
        "import xgboost as xgb\n",
        "from scipy.stats import skew\n",
        "from scipy import stats\n",
        "from sklearn.preprocessing import OneHotEncoder, LabelEncoder, StandardScaler\n",
        "from sklearn.model_selection import train_test_split, GridSearchCV\n",
        "from sklearn.compose import ColumnTransformer\n",
        "from sklearn.pipeline import Pipeline\n",
        "from sklearn.impute import SimpleImputer\n",
        "from sklearn.ensemble import RandomForestClassifier\n",
        "from sklearn.metrics import accuracy_score, auc, classification_report, roc_curve, roc_auc_score, confusion_matrix\n",
        "from sklearn.linear_model import LogisticRegression\n",
        "from sklearn.tree import DecisionTreeClassifier\n",
        "from sklearn.svm import SVC\n",
        "from sklearn.neighbors import KNeighborsClassifier\n",
        "from datetime import datetime\n",
        "from sklearn.neighbors import NearestNeighbors"
      ]
    },
    {
      "cell_type": "code",
      "source": [
        "import re\n",
        "import string\n",
        "\n",
        "from sklearn.feature_extraction.text import CountVectorizer, TfidfVectorizer\n",
        "import matplotlib.pyplot as plt\n",
        "import pandas as pd\n",
        "import numpy as np\n",
        "\n",
        "# from bs4 import BeautifulSoup\n",
        "%matplotlib inline\n",
        "\n",
        "import pickle as pkl"
      ],
      "metadata": {
        "id": "y-KbOKtB0KLn"
      },
      "execution_count": 150,
      "outputs": []
    },
    {
      "cell_type": "code",
      "source": [
        "print(\"XGBoost\", xgb.__version__)"
      ],
      "metadata": {
        "id": "cCMG0Rcq0XiT",
        "colab": {
          "base_uri": "https://localhost:8080/"
        },
        "outputId": "ebf6100d-7f74-4baa-a4ce-b0c84c7ce606"
      },
      "execution_count": 151,
      "outputs": [
        {
          "output_type": "stream",
          "name": "stdout",
          "text": [
            "XGBoost 0.90\n"
          ]
        }
      ]
    },
    {
      "cell_type": "code",
      "source": [
        "df = pd.read_csv('/content/ks-projects-201801.csv')"
      ],
      "metadata": {
        "id": "CTirp4nH0d8B"
      },
      "execution_count": 152,
      "outputs": []
    },
    {
      "cell_type": "code",
      "source": [
        "df.head()\n",
        "print(df.shape)"
      ],
      "metadata": {
        "id": "tgU_o6US1T5B",
        "colab": {
          "base_uri": "https://localhost:8080/"
        },
        "outputId": "323f798e-6b8d-4e1d-e3e1-c5fd3281e78f"
      },
      "execution_count": 167,
      "outputs": [
        {
          "output_type": "stream",
          "name": "stdout",
          "text": [
            "(375099, 16)\n"
          ]
        }
      ]
    },
    {
      "cell_type": "code",
      "source": [
        "df.isnull().sum()"
      ],
      "metadata": {
        "id": "mnmqfaP-7zO0",
        "colab": {
          "base_uri": "https://localhost:8080/"
        },
        "outputId": "2ea12c70-b4ca-4734-8508-137b15458f48"
      },
      "execution_count": 154,
      "outputs": [
        {
          "output_type": "execute_result",
          "data": {
            "text/plain": [
              "ID                     0\n",
              "name                   4\n",
              "category               0\n",
              "main_category          0\n",
              "currency               0\n",
              "deadline               0\n",
              "goal                   0\n",
              "launched               0\n",
              "pledged                0\n",
              "state                  0\n",
              "backers                0\n",
              "country                0\n",
              "usd pledged         3797\n",
              "usd_pledged_real       0\n",
              "usd_goal_real          0\n",
              "dtype: int64"
            ]
          },
          "metadata": {},
          "execution_count": 154
        }
      ]
    },
    {
      "cell_type": "code",
      "source": [
        "df[\"state\"].unique()"
      ],
      "metadata": {
        "id": "oREJQ3FqB8QW",
        "colab": {
          "base_uri": "https://localhost:8080/"
        },
        "outputId": "7e9b6817-5ef3-4c88-d129-d364af7acbe4"
      },
      "execution_count": 155,
      "outputs": [
        {
          "output_type": "execute_result",
          "data": {
            "text/plain": [
              "array(['failed', 'canceled', 'successful', 'live', 'undefined',\n",
              "       'suspended'], dtype=object)"
            ]
          },
          "metadata": {},
          "execution_count": 155
        }
      ]
    },
    {
      "cell_type": "code",
      "source": [
        "df['launched'] = pd.to_datetime(df['launched'])\n",
        "df['deadline'] = pd.to_datetime(df['deadline'])"
      ],
      "metadata": {
        "id": "1TfIrqTQIOpW"
      },
      "execution_count": 156,
      "outputs": []
    },
    {
      "cell_type": "code",
      "source": [
        "df['duration'] = df['deadline'] - df['launched']"
      ],
      "metadata": {
        "id": "RSEiNO4LJFmJ"
      },
      "execution_count": 157,
      "outputs": []
    },
    {
      "cell_type": "code",
      "source": [
        "df.duration"
      ],
      "metadata": {
        "id": "mfolaWD1JfDQ",
        "colab": {
          "base_uri": "https://localhost:8080/"
        },
        "outputId": "45b19bd0-dce3-486b-c6fc-ec401fb962fb"
      },
      "execution_count": 158,
      "outputs": [
        {
          "output_type": "execute_result",
          "data": {
            "text/plain": [
              "0        58 days 11:47:32\n",
              "1        59 days 19:16:03\n",
              "2        44 days 23:39:10\n",
              "3        29 days 20:35:49\n",
              "4        55 days 15:24:57\n",
              "               ...       \n",
              "378656   29 days 21:24:30\n",
              "378657   26 days 20:24:46\n",
              "378658   45 days 04:19:30\n",
              "378659   30 days 05:46:07\n",
              "378660   27 days 14:52:13\n",
              "Name: duration, Length: 378661, dtype: timedelta64[ns]"
            ]
          },
          "metadata": {},
          "execution_count": 158
        }
      ]
    },
    {
      "cell_type": "code",
      "source": [
        "df.state.value_counts()"
      ],
      "metadata": {
        "id": "MQactbNsJk7v",
        "colab": {
          "base_uri": "https://localhost:8080/"
        },
        "outputId": "90c0977f-d392-43bc-d53c-dd8f7a52d882"
      },
      "execution_count": 159,
      "outputs": [
        {
          "output_type": "execute_result",
          "data": {
            "text/plain": [
              "failed        197719\n",
              "successful    133956\n",
              "canceled       38779\n",
              "undefined       3562\n",
              "live            2799\n",
              "suspended       1846\n",
              "Name: state, dtype: int64"
            ]
          },
          "metadata": {},
          "execution_count": 159
        }
      ]
    },
    {
      "cell_type": "code",
      "source": [
        "df.drop(df[(df['state'] == 'undefined')].index,inplace = True)\n"
      ],
      "metadata": {
        "id": "ey7ey2HwL314"
      },
      "execution_count": 160,
      "outputs": []
    },
    {
      "cell_type": "code",
      "source": [
        "df['state'].value_counts()"
      ],
      "metadata": {
        "id": "fpuINoqmNQG5",
        "colab": {
          "base_uri": "https://localhost:8080/"
        },
        "outputId": "48081a86-b3e8-455c-eb24-7a470283dd67"
      },
      "execution_count": 161,
      "outputs": [
        {
          "output_type": "execute_result",
          "data": {
            "text/plain": [
              "failed        197719\n",
              "successful    133956\n",
              "canceled       38779\n",
              "live            2799\n",
              "suspended       1846\n",
              "Name: state, dtype: int64"
            ]
          },
          "metadata": {},
          "execution_count": 161
        }
      ]
    },
    {
      "cell_type": "code",
      "source": [
        "df[\"state\"].replace({\"failed\": \"Failed\", \"successful\": \"Success\",\"canceled\": \"Failed\",\"live\": \"Success\",\"suspended\": \"Failed\"}, inplace=True)"
      ],
      "metadata": {
        "id": "JrlwzE1-NrYW"
      },
      "execution_count": 162,
      "outputs": []
    },
    {
      "cell_type": "code",
      "source": [
        "df.state.value_counts(normalize = True)*100"
      ],
      "metadata": {
        "id": "c4Jk-NMfN4tX",
        "colab": {
          "base_uri": "https://localhost:8080/"
        },
        "outputId": "7907cbb0-7228-4b70-9213-c213f75032c8"
      },
      "execution_count": 163,
      "outputs": [
        {
          "output_type": "execute_result",
          "data": {
            "text/plain": [
              "Failed     63.541625\n",
              "Success    36.458375\n",
              "Name: state, dtype: float64"
            ]
          },
          "metadata": {},
          "execution_count": 163
        }
      ]
    },
    {
      "cell_type": "code",
      "source": [
        "my_features = ['country', 'currency', 'duration', 'goal']"
      ],
      "metadata": {
        "id": "T8eNuJhLQQei"
      },
      "execution_count": 164,
      "outputs": []
    },
    {
      "cell_type": "code",
      "source": [
        "cols_to_drop = [\n",
        "        \"ID\",\n",
        "        \"name\",\n",
        "        \"category\",\n",
        "        \"main_category\",\n",
        "        \"deadline\",\n",
        "        \"launched\",\n",
        "        \"pledged\",\n",
        "        \"backers\",\n",
        "        \"usd pledged\",\n",
        "        \"usd_pledged_real\",\n",
        "        \"usd_goal_real\",\n",
        "    ]\n",
        "df = df.drop(cols_to_drop, axis=1)"
      ],
      "metadata": {
        "id": "YD3RRpuLyxW_"
      },
      "execution_count": 168,
      "outputs": []
    },
    {
      "cell_type": "code",
      "source": [
        "# df.shape"
      ],
      "metadata": {
        "colab": {
          "base_uri": "https://localhost:8080/"
        },
        "id": "qqPt2VVu0I6Y",
        "outputId": "fa4edf76-58ae-4aa1-cdf8-8ac91a17ad31"
      },
      "execution_count": 172,
      "outputs": [
        {
          "output_type": "execute_result",
          "data": {
            "text/plain": [
              "(375099, 5)"
            ]
          },
          "metadata": {},
          "execution_count": 172
        }
      ]
    },
    {
      "cell_type": "code",
      "source": [
        "dtrain = df[my_features]\n",
        "dtest = df[my_features]"
      ],
      "metadata": {
        "id": "qnfQRqNYSxi2"
      },
      "execution_count": 169,
      "outputs": []
    },
    {
      "cell_type": "code",
      "source": [
        "df['state'] = df['state'].replace({'failed':0, 'successful':1})"
      ],
      "metadata": {
        "id": "5Ro2e4pAkJSt"
      },
      "execution_count": 170,
      "outputs": []
    },
    {
      "cell_type": "code",
      "source": [
        "y = df.state\n",
        "\n",
        "X_train, X_val, y_train, y_val = train_test_split(df, y, test_size=0.1, random_state=0)\n",
        "categorical_cols = [cname for cname in dtrain.columns if\n",
        "                    dtrain[cname].nunique() < 10 and \n",
        "                    dtrain[cname].dtype == \"object\"]\n",
        "\n",
        "numerical_cols = [cname for cname in dtrain.columns if \n",
        "                dtrain[cname].dtype in ['int64', 'float64']]"
      ],
      "metadata": {
        "id": "aR7uxt_mkbTy"
      },
      "execution_count": 171,
      "outputs": []
    },
    {
      "cell_type": "code",
      "source": [
        "print(X_train.shape)\n",
        "print(X_val.shape)\n",
        "print(y_train.shape)\n",
        "print(y_val.shape)"
      ],
      "metadata": {
        "id": "RU9OLjJTTiwS",
        "colab": {
          "base_uri": "https://localhost:8080/"
        },
        "outputId": "a56089a5-1df4-47db-e388-1f1ff5397898"
      },
      "execution_count": 173,
      "outputs": [
        {
          "output_type": "stream",
          "name": "stdout",
          "text": [
            "(337589, 5)\n",
            "(37510, 5)\n",
            "(337589,)\n",
            "(37510,)\n"
          ]
        }
      ]
    },
    {
      "cell_type": "code",
      "source": [
        "numerical_transformer = SimpleImputer(strategy='mean')\n",
        "\n",
        "categorical_transformer = Pipeline(steps=[\n",
        "    ('imputer', SimpleImputer(strategy='most_frequent')),\n",
        "    ('onehot', OneHotEncoder(handle_unknown='ignore', sparse=False))\n",
        "])\n",
        "\n",
        "sc = StandardScaler()\n",
        "\n",
        "preprocessor = ColumnTransformer(\n",
        "    transformers=[\n",
        "        ('num', numerical_transformer, numerical_cols),\n",
        "        ('cat', categorical_transformer, categorical_cols)\n",
        "    ])"
      ],
      "metadata": {
        "id": "On0MgVHnXECn"
      },
      "execution_count": 174,
      "outputs": []
    },
    {
      "cell_type": "code",
      "source": [
        "Results = pd.DataFrame({'Model': [], 'Accuracy Score': []})"
      ],
      "metadata": {
        "id": "I0mzQqgANfOM"
      },
      "execution_count": 175,
      "outputs": []
    },
    {
      "cell_type": "code",
      "source": [
        "knnc = KNeighborsClassifier()\n",
        "\n",
        "knn = Pipeline(steps=[('preprocessor',preprocessor),\n",
        "                      ('sc',StandardScaler()),\n",
        "                      ('model', knnc)\n",
        "])\n",
        "\n",
        "knn.fit(X_train, y_train)\n",
        "\n",
        "predsKNN = knn.predict(X_val)\n",
        "\n",
        "\n",
        "# print('Accuracy:', accuracy_score(y_val, predsKNN))\n",
        "# print('CR:', classification_report(y_val, predsKNN))\n",
        "# print('CM:',confusion_matrix(y_val, predsKNN))\n",
        "\n",
        "# res = pd.DataFrame({'Model': ['KNN'],\n",
        "#                     'Accuracy Score': [accuracy_score(y_val, predsKNN)]})\n",
        "# Results = Results.append(res)"
      ],
      "metadata": {
        "id": "0sV3Ld2zX-AC"
      },
      "execution_count": 176,
      "outputs": []
    },
    {
      "cell_type": "code",
      "source": [
        "print('Accuracy:', accuracy_score(y_val, predsKNN))\n",
        "print('CR:', classification_report(y_val, predsKNN))\n",
        "print('CM:',confusion_matrix(y_val, predsKNN))\n",
        "\n",
        "res = pd.DataFrame({'Model': ['KNN'],\n",
        "                    'Accuracy Score': [accuracy_score(y_val, predsKNN)]})\n",
        "Results = Results.append(res)"
      ],
      "metadata": {
        "colab": {
          "base_uri": "https://localhost:8080/"
        },
        "id": "GzicUjtuoFgr",
        "outputId": "9ca7919c-4a35-4a7a-982e-fbe5eeb316aa"
      },
      "execution_count": 177,
      "outputs": [
        {
          "output_type": "stream",
          "name": "stdout",
          "text": [
            "Accuracy: 0.6095707811250334\n",
            "CR:               precision    recall  f1-score   support\n",
            "\n",
            "      Failed       0.66      0.78      0.72     23805\n",
            "     Success       0.45      0.32      0.37     13705\n",
            "\n",
            "    accuracy                           0.61     37510\n",
            "   macro avg       0.56      0.55      0.54     37510\n",
            "weighted avg       0.59      0.61      0.59     37510\n",
            "\n",
            "CM: [[18527  5278]\n",
            " [ 9367  4338]]\n"
          ]
        }
      ]
    },
    {
      "cell_type": "code",
      "source": [
        "from xgboost import XGBClassifier\n",
        "model_xgb = XGBClassifier(n_estimators= 500, learning_rate = 0.1, max_depth=5, use_label_encoder=False)\n",
        "\n",
        "xgb = Pipeline(steps=[('preprocessor', preprocessor),\n",
        "                      ('model_xgb', model_xgb)\n",
        "])\n",
        "\n",
        "\n",
        "xgb.fit(X_train, y_train)"
      ],
      "metadata": {
        "colab": {
          "base_uri": "https://localhost:8080/"
        },
        "id": "p4xmCGjaoGOB",
        "outputId": "c239148b-7a45-43e6-b132-37ac8f691ed2"
      },
      "execution_count": 178,
      "outputs": [
        {
          "output_type": "execute_result",
          "data": {
            "text/plain": [
              "Pipeline(steps=[('preprocessor',\n",
              "                 ColumnTransformer(transformers=[('num', SimpleImputer(),\n",
              "                                                  ['goal']),\n",
              "                                                 ('cat',\n",
              "                                                  Pipeline(steps=[('imputer',\n",
              "                                                                   SimpleImputer(strategy='most_frequent')),\n",
              "                                                                  ('onehot',\n",
              "                                                                   OneHotEncoder(handle_unknown='ignore',\n",
              "                                                                                 sparse=False))]),\n",
              "                                                  [])])),\n",
              "                ('model_xgb',\n",
              "                 XGBClassifier(max_depth=5, n_estimators=500,\n",
              "                               use_label_encoder=False))])"
            ]
          },
          "metadata": {},
          "execution_count": 178
        }
      ]
    },
    {
      "cell_type": "code",
      "source": [
        "predictions = xgb.predict(X_val)\n",
        "print('Accuracy:', accuracy_score(y_val, predictions))\n",
        "print('CR:', classification_report(y_val, predictions))\n",
        "print('CM:',confusion_matrix(y_val, predictions))\n",
        "\n",
        "res = pd.DataFrame({'Model': ['XGB'],\n",
        "                    'Accuracy Score': [accuracy_score(y_val, predictions)]})\n",
        "Results = Results.append(res)"
      ],
      "metadata": {
        "colab": {
          "base_uri": "https://localhost:8080/"
        },
        "id": "PKKqC3gYoKx9",
        "outputId": "1224732d-9c2f-4047-afe2-a28094e707ee"
      },
      "execution_count": 179,
      "outputs": [
        {
          "output_type": "stream",
          "name": "stdout",
          "text": [
            "Accuracy: 0.6366568914956011\n",
            "CR:               precision    recall  f1-score   support\n",
            "\n",
            "      Failed       0.65      0.92      0.76     23805\n",
            "     Success       0.51      0.14      0.22     13705\n",
            "\n",
            "    accuracy                           0.64     37510\n",
            "   macro avg       0.58      0.53      0.49     37510\n",
            "weighted avg       0.60      0.64      0.57     37510\n",
            "\n",
            "CM: [[21917  1888]\n",
            " [11741  1964]]\n"
          ]
        }
      ]
    },
    {
      "cell_type": "code",
      "source": [
        "# model = RandomForestClassifier(n_estimators=100, random_state=0,criterion='entropy')\n",
        "\n",
        "\n",
        "# clf = Pipeline(steps=[('preprocessor', preprocessor),\n",
        "#                       ('sc',StandardScaler()),\n",
        "#                       ('model', model)\n",
        "# ])\n",
        "\n",
        "\n",
        "# clf.fit(X_train, y_train)\n",
        "\n",
        "\n",
        "# preds = clf.predict(X_val)\n",
        "# print('Accuracy:', accuracy_score(y_val, preds))\n",
        "# print('CR:', classification_report(y_val, preds))\n",
        "# print('CM:',confusion_matrix(y_val, preds))\n",
        "\n",
        "# res = pd.DataFrame({'Model': ['RandomForest'],\n",
        "#                     'Accuracy Score': [accuracy_score(y_val, preds)]})\n",
        "# Results = Results.append(res)"
      ],
      "metadata": {
        "id": "4yvHFRb0oRZd"
      },
      "execution_count": 180,
      "outputs": []
    },
    {
      "cell_type": "code",
      "source": [
        "# with open(\"model_XGB_k\",\"wb\") as f:\n",
        "#     pkl.dump(model_xgb, f)\n",
        "# xgb.save_model('xgb.model.kick')"
      ],
      "metadata": {
        "id": "IxUt1GbYoaAa"
      },
      "execution_count": 181,
      "outputs": []
    },
    {
      "cell_type": "code",
      "source": [
        "pkl.dump(knn, open('model_XGB', 'wb'))"
      ],
      "metadata": {
        "id": "D3kvi-lMocqd"
      },
      "execution_count": 182,
      "outputs": []
    }
  ]
}